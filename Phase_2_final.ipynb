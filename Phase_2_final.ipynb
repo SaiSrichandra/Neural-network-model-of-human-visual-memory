{
  "nbformat": 4,
  "nbformat_minor": 0,
  "metadata": {
    "colab": {
      "provenance": [],
      "collapsed_sections": [
        "yz9FNed4VexG"
      ],
      "toc_visible": true
    },
    "kernelspec": {
      "name": "python3",
      "display_name": "Python 3"
    },
    "language_info": {
      "name": "python"
    }
  },
  "cells": [
    {
      "cell_type": "markdown",
      "source": [
        "# Phase 1 and Model Building"
      ],
      "metadata": {
        "id": "tPMxKHhgRJr-"
      }
    },
    {
      "cell_type": "code",
      "source": [
        "#Suppressing Warnings\n",
        "import warnings\n",
        "warnings.filterwarnings(\"ignore\", category=FutureWarning)"
      ],
      "metadata": {
        "id": "PgadHp9trT75"
      },
      "execution_count": 2,
      "outputs": []
    },
    {
      "cell_type": "code",
      "source": [
        "#Importing required Libraries\n",
        "import numpy as np\n",
        "from matplotlib import pyplot as plt\n",
        "import matplotlib.cm as cm\n",
        "from tqdm import tqdm\n",
        "from PIL import Image\n",
        "from os import walk\n",
        "from skimage.filters import threshold_mean\n",
        "from skimage.transform import resize\n",
        "import numpy as np\n",
        "import matplotlib.pyplot as plt\n",
        "from PIL import Image\n",
        "from os import walk\n",
        "import random"
      ],
      "metadata": {
        "id": "pmh0Ug08wKPf"
      },
      "execution_count": 3,
      "outputs": []
    },
    {
      "cell_type": "code",
      "execution_count": 4,
      "metadata": {
        "id": "Cu2PJ26ButiM"
      },
      "outputs": [],
      "source": [
        "#Hopfield network code from Github (https://github.com/DenseLance/hopfield-networks/tree/main)\n",
        "import numpy as np\n",
        "from PIL import Image\n",
        "from typing import Optional\n",
        "\n",
        "class ClassicalHopfield:\n",
        "    \"\"\"\n",
        "    Based on the paper \"Neural networks and physical systems with emergent collective computational abilities\"\n",
        "    by J. Hopfield, 1982.\n",
        "    Link to paper: https://www.pnas.org/doi/10.1073/pnas.79.8.2554\n",
        "    \"\"\"\n",
        "    def __init__(self, *, input_shape: tuple, threshold: Optional[np.ndarray] = None): # PIL.Image.size = (W, H), np.ndarray.shape = (H, W); use PIL for input_shape\n",
        "        assert len(input_shape) == 2\n",
        "        assert threshold is None or threshold.shape == (np.prod(input_shape),)\n",
        "\n",
        "        self.input_shape = input_shape\n",
        "        self.weight_shape = (np.prod(self.input_shape),) * 2\n",
        "        self.weights = np.zeros(self.weight_shape)\n",
        "        self.threshold = np.zeros(self.weight_shape[0]) if threshold is None else threshold # also known as bias\n",
        "\n",
        "    def process_image(self, image: Image) -> np.ndarray:\n",
        "        # assert image.size == self.input_shape\n",
        "\n",
        "        states = np.asarray(image.convert(\"1\"))  # converting to black and white image\n",
        "        states = states * 2 - 1 # converting image to polar values of {-1, 1}\n",
        "        states = states.flatten() # converting image to a singular axis\n",
        "\n",
        "        return states\n",
        "\n",
        "    def restore_image(self, states: np.ndarray) -> Image:\n",
        "        image = states.reshape(self.input_shape[::-1]) # ensure restored image is in PIL format\n",
        "        return image\n",
        "\n",
        "    def storage_capacity_limit(self) -> int:\n",
        "        \"\"\"\n",
        "        Storage capacity (C) for retrieval of patterns with small percentage of errors is approximately 0.14d.\n",
        "        \"\"\"\n",
        "        return int(0.14 * self.weight_shape[0])\n",
        "\n",
        "    def energy_function(self, states: np.ndarray) -> float:\n",
        "        \"\"\"\n",
        "        Energy should only decrease or remain constant when network is trained over time as it is negative.\n",
        "        As network is updated, energy should eventually converge to a local minima.\n",
        "        \"\"\"\n",
        "        return -np.matmul(np.matmul(self.weights, states), states) / 2 + np.matmul(self.threshold, states)\n",
        "\n",
        "    def train(self, states: np.ndarray):\n",
        "        \"\"\"\n",
        "        The following 2 properties should be highlighted:\n",
        "        1. No node has connection with itself, therefore weight between 2 same nodes W[i][i] = 0\n",
        "        -> states[i] * states [i] = 1 given states[i] ∈ {-1, 1}, hence we minus identity vector from weights\n",
        "        -> Alternatively, np.fill_diagonal is used\n",
        "        2. Weights are symmetric, meaning self.weights[i][j] = self.weights[j][i]\n",
        "        -> Vector outer product would suffice in obtaining the weights\n",
        "        \"\"\"\n",
        "        weights = np.outer(states, states.T)\n",
        "        np.fill_diagonal(weights, 0)\n",
        "        self.weights += weights\n",
        "\n",
        "    def test(self, states: np.ndarray, synchronous: Optional[bool] = True, number_of_iterations: Optional[int] = 1) -> np.ndarray:\n",
        "        \"\"\"\n",
        "        Two update rules can be used: synchronous and asynchronous.\n",
        "        -> Synchronous: All values in state matrix are updated at the same time. Converges instantly.\n",
        "        -> Asynchronous: Only one random value in state matrix is updated at any point. Converges over time.\n",
        "\n",
        "        There is a need to set number_of_iterations if using asynchronous update rule for state to converge.\n",
        "        \"\"\"\n",
        "        if synchronous:\n",
        "            predicted_states = (np.matmul(self.weights, states) >= self.threshold) * 2 - 1 # in essence, this is dot product between weights along first axis and states, reducing axis from 2 to 1\n",
        "        else:\n",
        "            predicted_states = states.copy()\n",
        "            for _ in range(number_of_iterations):\n",
        "                index = np.random.randint(0, self.weight_shape[0])\n",
        "                predicted_states[index] = (np.matmul(self.weights[index], predicted_states) >= self.threshold[index]) * 2 - 1\n",
        "\n",
        "        return predicted_states"
      ]
    },
    {
      "cell_type": "code",
      "source": [
        "#Loading training image paths all at once\n",
        "res = []\n",
        "fnames = None\n",
        "for (dir_path, dir_names, file_names) in walk(\"/content/drive/MyDrive/train_imgs\"):\n",
        "  fnames = file_names\n",
        "\n",
        "for name in fnames:\n",
        "  res.append(\"/content/drive/MyDrive/train_imgs/\" + name)\n",
        "print(\"Images loaded for training : \", len(res))"
      ],
      "metadata": {
        "id": "b1r3OqrZv2SL"
      },
      "execution_count": null,
      "outputs": []
    },
    {
      "cell_type": "code",
      "source": [
        "#Images taken for training the network\n",
        "from os import walk\n",
        "dir_main = \"/content/drive/MyDrive/Gray2\"\n",
        "dir_path_list = []\n",
        "for (dir_path, dir_names, file_names) in walk(dir_main):\n",
        "    dir_path_list.append(dir_path)\n",
        "dir_path_list.remove(\"/content/drive/MyDrive/Gray2\")\n",
        "dir_path_list.remove(\"/content/drive/MyDrive/Gray2/1exemplar\")\n",
        "dir_path_list.remove(\"/content/drive/MyDrive/Gray2/16exemplars\")\n",
        "dir_path_list.remove(\"/content/drive/MyDrive/Gray2/8exemplars\")\n",
        "dir_path_list.remove(\"/content/drive/MyDrive/Gray2/4exemplars\")\n",
        "dir_path_list.remove(\"/content/drive/MyDrive/Gray2/2exemplars\")\n",
        "test_img_info = []\n",
        "\n",
        "dpl = \"/content/drive/MyDrive/Gray2/1exemplar\"\n",
        "fnames = []\n",
        "for (dir_path, dir_names, file_names) in walk(dpl):\n",
        "  fnames = file_names\n",
        "for file_names in fnames:\n",
        "  test_img_info.append(['1exemplar', file_names, dpl +\"/\"+ file_names])\n",
        "\n",
        "for dpl in dir_path_list:\n",
        "  for (dir_path, dir_names, file_names) in walk(dpl):\n",
        "    test_img_info.append([dir_path.split('/')[-2],dir_path.split('/')[-1], dir_path +\"/\"+ file_names[1]])\n",
        "test_img_paths = []\n",
        "for info in test_img_info:\n",
        "  test_img_paths.append(info[2])\n",
        "print(\"Images taken for testing : \", len(test_img_paths))"
      ],
      "metadata": {
        "id": "nErqN6knv1Km"
      },
      "execution_count": null,
      "outputs": []
    },
    {
      "cell_type": "code",
      "source": [
        "#Load our images from given file paths, resize and flatten them to use in Hopfield\n",
        "def load_and_preprocess_images(image_paths,w=128, h=128):\n",
        "    images = []\n",
        "    for path in image_paths:\n",
        "        image = Image.open(path)  # Open our images\n",
        "        images.append(image.resize((w,h)))\n",
        "    return images"
      ],
      "metadata": {
        "id": "GT8nVWzEvz9x"
      },
      "execution_count": null,
      "outputs": []
    },
    {
      "cell_type": "code",
      "source": [
        "#Using above functions to preprocess images and storing in lists\n",
        "vectorized_images = load_and_preprocess_images(res)\n",
        "random.shuffle(vectorized_images)\n",
        "test_images = load_and_preprocess_images(test_img_paths)"
      ],
      "metadata": {
        "id": "ZgUYhUn1viaX"
      },
      "execution_count": null,
      "outputs": []
    },
    {
      "cell_type": "code",
      "source": [
        "# Training the Hopfield Network using 1240 images\n",
        "hopfield_network = ClassicalHopfield(input_shape = vectorized_images[0].size)\n",
        "assert len(vectorized_images) <= hopfield_network.storage_capacity_limit() # best to keep number of patterns below storage capacity\n",
        "energy_list = [0]\n",
        "for pattern in vectorized_images:\n",
        "    states = hopfield_network.process_image(pattern)\n",
        "    hopfield_network.train(states)\n",
        "    energy_list.append(hopfield_network.energy_function(states))"
      ],
      "metadata": {
        "id": "6qBnryALuu-t"
      },
      "execution_count": null,
      "outputs": []
    },
    {
      "cell_type": "code",
      "source": [
        "#Testing the Hopfield on 200 imags one from each category\n",
        "accu = []\n",
        "for i, pattern in enumerate(test_images):\n",
        "    pattern = pattern.convert(\"1\")\n",
        "    states = hopfield_network.process_image(pattern)\n",
        "    mask = list(np.random.permutation(np.arange(0,128*128))[:4096])\n",
        "    corrupted_states = states.copy()\n",
        "    for pp in mask:\n",
        "      corrupted_states[pp] *= -1\n",
        "    predicted_states = corrupted_states.copy()\n",
        "    energy_list = [hopfield_network.energy_function(predicted_states)]\n",
        "    predicted_states = hopfield_network.test(corrupted_states, synchronous = True)\n",
        "    acc = np.sum(np.asarray(states) == np.asarray(predicted_states)) * 100 // np.prod(states.size)\n",
        "    accu.append(acc)"
      ],
      "metadata": {
        "id": "HkL6YO-IxGpO"
      },
      "execution_count": null,
      "outputs": []
    },
    {
      "cell_type": "markdown",
      "source": [
        "# Checking if Hopfield works correctly\n"
      ],
      "metadata": {
        "id": "YuRKGGyusHGo"
      }
    },
    {
      "cell_type": "code",
      "source": [
        "# Creating a random vector\n",
        "v1 = np.random.binomial(n=1, p=0.6, size=[128*128])"
      ],
      "metadata": {
        "id": "xkRLNbQLr4VE"
      },
      "execution_count": null,
      "outputs": []
    },
    {
      "cell_type": "code",
      "source": [
        "# Making the vector contain only 1 and -1\n",
        "v1[v1 == 0] = -1"
      ],
      "metadata": {
        "id": "3f855evctMQh"
      },
      "execution_count": null,
      "outputs": []
    },
    {
      "cell_type": "code",
      "source": [
        "# Creating 4 vectors two that are similar and two that are very different from refernce vector\n",
        "test_v = []\n",
        "\n",
        "# 100-150 changes (very similar)\n",
        "for ppp in range(1):\n",
        "  n_change = np.random.randint(100, 150)\n",
        "  c_list = random.sample(range(128*128), n_change)\n",
        "  vo = v1.copy()\n",
        "  for c in c_list:\n",
        "    vo[c] *= -1\n",
        "  test_v.append(vo)\n",
        "\n",
        "# 500-1000 changes (somewhat similar)\n",
        "for ppp in range(1):\n",
        "  n_change = np.random.randint(500,1000)\n",
        "  c_list = random.sample(range(128*128), n_change)\n",
        "  vo = v1.copy()\n",
        "  for c in c_list:\n",
        "    vo[c] *= -1\n",
        "  test_v.append(vo)\n",
        "\n",
        "# 5000-6000 changes (somewhat different)\n",
        "for ppp in range(1):\n",
        "  n_change = np.random.randint(5000,6000)\n",
        "  c_list = random.sample(range(128*128), n_change)\n",
        "  vo = v1.copy()\n",
        "  for c in c_list:\n",
        "    vo[c] *= -1\n",
        "  test_v.append(vo)\n",
        "\n",
        "# 10000-150000 changes (very different)\n",
        "for ppp in range(1):\n",
        "  n_change = np.random.randint(5000,10000)\n",
        "  c_list = random.sample(range(128*128), n_change)\n",
        "  vo = v1.copy()\n",
        "  for c in c_list:\n",
        "    vo[c] *= -1\n",
        "  test_v.append(vo)"
      ],
      "metadata": {
        "id": "_Uz2eBrHtR6v"
      },
      "execution_count": null,
      "outputs": []
    },
    {
      "cell_type": "code",
      "source": [
        "# Creating shuffled train set of these 4 vectors\n",
        "sh_v = test_v.copy()\n",
        "random.shuffle(test_v)\n",
        "len(test_v)"
      ],
      "metadata": {
        "id": "KcuhF4IMR7gr"
      },
      "execution_count": null,
      "outputs": []
    },
    {
      "cell_type": "code",
      "source": [
        "# Training the Hopfield with these vectors\n",
        "hopfield_network = ClassicalHopfield(input_shape = (128,128))\n",
        "assert len(test_v) <= hopfield_network.storage_capacity_limit()\n",
        "energy_list = [0]\n",
        "jj=0\n",
        "for pattern in test_v:\n",
        "    jj+=1\n",
        "    print(jj)\n",
        "    states = pattern\n",
        "    hopfield_network.train(states)\n",
        "    energy_list.append(hopfield_network.energy_function(states))"
      ],
      "metadata": {
        "id": "uc92A0Tdz0lW"
      },
      "execution_count": null,
      "outputs": []
    },
    {
      "cell_type": "code",
      "source": [
        "# Testing network using highly similar vector and moving towards highly different vector\n",
        "test_test_v1 = [sh_v[0]]\n",
        "test_test_v2 = [sh_v[1]]\n",
        "test_test_v3 = [sh_v[2]]\n",
        "test_test_v4 = [sh_v[3]]"
      ],
      "metadata": {
        "id": "i8UqJ2Ezz-Xd"
      },
      "execution_count": null,
      "outputs": []
    },
    {
      "cell_type": "code",
      "source": [
        "# Performance of highly similar vector\n",
        "for i, pattern in enumerate(test_test_v1):\n",
        "    states = pattern\n",
        "    predicted_states = states.copy()\n",
        "    energy_list = [hopfield_network.energy_function(predicted_states)]\n",
        "    predicted_states = hopfield_network.test(predicted_states, synchronous = True)\n",
        "    acc = np.sum(np.asarray(states) == np.asarray(predicted_states))*100 / np.prod(states.size)\n",
        "    print(acc)"
      ],
      "metadata": {
        "colab": {
          "base_uri": "https://localhost:8080/"
        },
        "id": "0U3tOx8G5Ipp",
        "outputId": "3c6d49a1-0e85-4ba5-d913-d155821d07b6"
      },
      "execution_count": null,
      "outputs": [
        {
          "output_type": "stream",
          "name": "stdout",
          "text": [
            "99.749755859375\n"
          ]
        }
      ]
    },
    {
      "cell_type": "code",
      "source": [
        "# Performance of somewhat similar vector\n",
        "for i, pattern in enumerate(test_test_v2):\n",
        "    states = pattern\n",
        "    predicted_states = states.copy()\n",
        "    energy_list = [hopfield_network.energy_function(predicted_states)]\n",
        "    predicted_states = hopfield_network.test(predicted_states, synchronous = True)\n",
        "    acc = np.sum(np.asarray(states) == np.asarray(predicted_states))*100 / np.prod(states.size)\n",
        "    print(acc)"
      ],
      "metadata": {
        "id": "lWKz4e_J739a",
        "colab": {
          "base_uri": "https://localhost:8080/"
        },
        "outputId": "1b25049a-0f28-4139-c4a1-d194bccab0f8"
      },
      "execution_count": null,
      "outputs": [
        {
          "output_type": "stream",
          "name": "stdout",
          "text": [
            "99.871826171875\n"
          ]
        }
      ]
    },
    {
      "cell_type": "code",
      "source": [
        "# Performance of somewhat different vector\n",
        "for i, pattern in enumerate(test_test_v3):\n",
        "    states = pattern\n",
        "    predicted_states = states.copy()\n",
        "    energy_list = [hopfield_network.energy_function(predicted_states)]\n",
        "    predicted_states = hopfield_network.test(predicted_states, synchronous = True)\n",
        "    acc = np.sum(np.asarray(states) == np.asarray(predicted_states))*100 / np.prod(states.size)\n",
        "    print(acc)"
      ],
      "metadata": {
        "colab": {
          "base_uri": "https://localhost:8080/"
        },
        "id": "pm5LVmdyZRrU",
        "outputId": "3559bcd7-89c5-41b3-f769-4b606e2fafb8"
      },
      "execution_count": null,
      "outputs": [
        {
          "output_type": "stream",
          "name": "stdout",
          "text": [
            "100.0\n"
          ]
        }
      ]
    },
    {
      "cell_type": "code",
      "source": [
        "#Performance of highly different vectors\n",
        "for i, pattern in enumerate(test_test_v4):\n",
        "    states = pattern\n",
        "    predicted_states = states.copy()\n",
        "    energy_list = [hopfield_network.energy_function(predicted_states)]\n",
        "    predicted_states = hopfield_network.test(predicted_states, synchronous = True)\n",
        "    acc = np.sum(np.asarray(states) == np.asarray(predicted_states))*100 / np.prod(states.size)\n",
        "    print(acc)"
      ],
      "metadata": {
        "colab": {
          "base_uri": "https://localhost:8080/"
        },
        "id": "SLFjm7RMZSQx",
        "outputId": "87928d4b-8126-4fe1-99d9-b0abc2bbc90d"
      },
      "execution_count": null,
      "outputs": [
        {
          "output_type": "stream",
          "name": "stdout",
          "text": [
            "100.0\n"
          ]
        }
      ]
    },
    {
      "cell_type": "markdown",
      "source": [
        "As we can see above as similarity decreases between the trained vectors, the prediction performance of Hopfield Networks increases"
      ],
      "metadata": {
        "id": "lZBxU4F4Q9XT"
      }
    },
    {
      "cell_type": "markdown",
      "source": [
        "# Phase 2"
      ],
      "metadata": {
        "id": "WdI7hbK7NDPq"
      }
    },
    {
      "cell_type": "markdown",
      "source": [
        "## Getting CNN Representations from three different layers"
      ],
      "metadata": {
        "id": "WujuFlia0Jw-"
      }
    },
    {
      "cell_type": "code",
      "source": [
        "#Using the original colored images as input data to get CNN representations\n",
        "from os import walk\n",
        "dir_main = \"/content/drive/MyDrive/ObjectCategories2\"\n",
        "dir_path_list = []\n",
        "for (dir_path, dir_names, file_names) in walk(dir_main):\n",
        "    dir_path_list.append(dir_path)\n",
        "dir_path_list.remove(\"/content/drive/MyDrive/ObjectCategories2\")\n",
        "dir_path_list.remove(\"/content/drive/MyDrive/ObjectCategories2/1-objects\")\n",
        "dir_path_list.remove(\"/content/drive/MyDrive/ObjectCategories2/16-objects\")\n",
        "dir_path_list.remove(\"/content/drive/MyDrive/ObjectCategories2/2-objects\")\n",
        "dir_path_list.remove(\"/content/drive/MyDrive/ObjectCategories2/4-objects\")\n",
        "dir_path_list.remove(\"/content/drive/MyDrive/ObjectCategories2/8-objects\")\n",
        "test_img_info = []\n",
        "dpl = \"/content/drive/MyDrive/ObjectCategories2/1-objects\"\n",
        "fnames = []\n",
        "for (dir_path, dir_names, file_names) in walk(dpl):\n",
        "  fnames = file_names\n",
        "for file_names in fnames:\n",
        "  test_img_info.append(['1-objects', file_names, dpl +\"/\"+ file_names])\n",
        "\n",
        "for dpl in dir_path_list:\n",
        "  for (dir_path, dir_names, file_names) in walk(dpl):\n",
        "    for file_nameee in file_names:\n",
        "      test_img_info.append([dir_path.split('/')[-2],dir_path.split('/')[-1], dir_path +\"/\"+ file_nameee])\n",
        "test_img_paths = []\n",
        "for info in test_img_info:\n",
        "  test_img_paths.append(info[2])\n",
        "print(\"Images taken for testing : \", len(test_img_paths))"
      ],
      "metadata": {
        "id": "IK1QLq23GWBy"
      },
      "execution_count": null,
      "outputs": []
    },
    {
      "cell_type": "code",
      "source": [
        "#Importing keras and relevant libraries\n",
        "import numpy as np\n",
        "import pandas as pd\n",
        "\n",
        "from keras import applications\n",
        "from keras.preprocessing.image import *\n",
        "from keras import optimizers\n",
        "from keras.models import Sequential, Model\n",
        "from keras.layers import Dropout, Flatten, Dense, GlobalAveragePooling2D\n",
        "from keras import backend as k\n",
        "from keras.callbacks import ModelCheckpoint, LearningRateScheduler, TensorBoard, EarlyStopping"
      ],
      "metadata": {
        "id": "H-Z8dl5x33Td"
      },
      "execution_count": 2,
      "outputs": []
    },
    {
      "cell_type": "code",
      "source": [
        "# Importing VGG16 model from Keras and building three pipelines to output\n",
        "# representations from pooling layers of Starting, Middlle and Ending Blocks in the model\n",
        "\n",
        "from keras.applications.vgg16 import VGG16\n",
        "from keras.preprocessing import image\n",
        "from keras.applications.vgg16 import preprocess_input\n",
        "from keras.models import Model\n",
        "import numpy as np\n",
        "base_model = VGG16(weights='imagenet')\n",
        "model_st = Model(inputs=base_model.input, outputs = base_model.get_layer('block1_pool').output)\n",
        "model_md = Model(inputs=base_model.input, outputs = base_model.get_layer('block3_pool').output)\n",
        "model_fin = Model(inputs=base_model.input, outputs = base_model.get_layer('block5_pool').output)"
      ],
      "metadata": {
        "id": "UKK3eAj5eOma"
      },
      "execution_count": null,
      "outputs": []
    },
    {
      "cell_type": "code",
      "source": [
        "# A function that calculates similarity between CNN representations of images in a category\n",
        "def get_sim(arry):\n",
        "  n_img = arry.shape[0]\n",
        "  denom = (n_img * (n_img - 1)) / 2\n",
        "  tot_sim = 0\n",
        "  for i in range(n_img):\n",
        "    for j in range(i+1,n_img):\n",
        "      iflat1 = arry[i].flatten()\n",
        "      iflat2 = arry[j].flatten()\n",
        "\n",
        "# Cosine similarity is used for calculation\n",
        "      sim_calc = np.dot(iflat1, iflat2) / (np.linalg.norm(iflat1) * np.linalg.norm(iflat2))\n",
        "      tot_sim += sim_calc\n",
        "# We average out the similarity across images in same category to get average similarity for a given category\n",
        "  return(tot_sim / denom)"
      ],
      "metadata": {
        "id": "gZ14nQtwa7hD"
      },
      "execution_count": 4,
      "outputs": []
    },
    {
      "cell_type": "code",
      "source": [
        "# A function to load the images into the model and get the representations form the three selected layers and then store them in numpy arrays\n",
        "def get_representations(cat_path):\n",
        "  img_path_list = []\n",
        "  for (dir_path, dir_names, file_names) in walk(cat_path):\n",
        "    for file_name in file_names:\n",
        "      img_path_list.append(cat_path + '/' + file_name)\n",
        "\n",
        "  st_arr  = np.zeros((1, 112, 112, 64), np.double)\n",
        "  md_arr  = np.zeros((1, 28, 28, 256), np.double)\n",
        "  fin_arr = np.zeros((1, 7, 7, 512), np.double)\n",
        "\n",
        "  for img_path in img_path_list:\n",
        "    img = image.load_img(img_path, target_size=(224, 224))\n",
        "    x= image.img_to_array(img)\n",
        "    x= np.expand_dims(x, axis=0)\n",
        "    x = preprocess_input(x)\n",
        "    st_feat = model_st.predict(x)\n",
        "    md_feat = model_md.predict(x)\n",
        "    fin_feat = model_fin.predict(x)\n",
        "    st_arr = np.concatenate( ( st_arr, st_feat) , axis=0)\n",
        "    md_arr = np.concatenate( ( md_arr, md_feat) , axis=0)\n",
        "    fin_arr = np.concatenate( ( fin_arr, fin_feat) , axis=0)\n",
        "\n",
        "  st_arr  =  st_arr[1:]\n",
        "  md_arr  =  md_arr[1:]\n",
        "  fin_arr = fin_arr[1:]\n",
        "\n",
        "  st_sim  = get_sim(st_arr)\n",
        "  md_sim  = get_sim(md_arr)\n",
        "  fin_sim = get_sim(fin_arr)\n",
        "\n",
        "  return (st_sim,md_sim,fin_sim)"
      ],
      "metadata": {
        "id": "XiqWXBWSJzH8"
      },
      "execution_count": 5,
      "outputs": []
    },
    {
      "cell_type": "code",
      "source": [
        "#We call the above functions to get representations and calculate category image similarity and then store it in a DataFrame\n",
        "sim_cat_dat = pd.DataFrame(columns=['Category Name', 'Start Sim', 'Mid  Sim', 'End Sim', 'Path'])\n",
        "i=0\n",
        "for dir_path in dir_path_list:\n",
        "  print(i)\n",
        "  st,md,fin = get_representations(dir_path)\n",
        "  sim_cat_dat = sim_cat_dat.append(pd.Series([dir_path.split('/')[-1], st,md,fin,dir_path], index = sim_cat_dat.columns),ignore_index=True)\n",
        "  i+=1"
      ],
      "metadata": {
        "id": "i3Jn3t_0KbjL"
      },
      "execution_count": null,
      "outputs": []
    },
    {
      "cell_type": "code",
      "source": [
        "# Writing Similarity data into excel file for further use\n",
        "sim_cat_dat.to_csv(\"/content/drive/MyDrive/category_similarity.csv\",index=False)"
      ],
      "metadata": {
        "id": "sTSMKL29phtU"
      },
      "execution_count": null,
      "outputs": []
    },
    {
      "cell_type": "code",
      "source": [
        "# Getting the final paths of test images to be used\n",
        "import os\n",
        "new_test_img_paths = []\n",
        "for p in test_img_paths:\n",
        "  ppp = sim_cat_dat[sim_cat_dat['Category Name'] == p.split('/')[-2]]['Path'].values[0]\n",
        "  new_test_img_paths.append(ppp + '/' + os.listdir(ppp)[0])"
      ],
      "metadata": {
        "id": "ctWWdBENYs7I"
      },
      "execution_count": 17,
      "outputs": []
    },
    {
      "cell_type": "markdown",
      "source": [
        "Formula used to normalize CNN representations into 0-255 range for input into model image preprocessor\n",
        "![image.png](data:image/png;base64,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)"
      ],
      "metadata": {
        "id": "YRdX-kaSH3Le"
      }
    },
    {
      "cell_type": "markdown",
      "source": [
        "## Training and Testing using Start CNN Representations"
      ],
      "metadata": {
        "id": "e-hJtsk5aRO8"
      }
    },
    {
      "cell_type": "code",
      "source": [
        "# Loading starting layer CNN representations\n",
        "import numpy as np\n",
        "#Guassian pyramid is used to perform downsampling of start CNN representations from (112*112*64) to (14*14*64)\n",
        "from skimage.transform import pyramid_gaussian\n",
        "\n",
        "# Applying guassian pyramid and getting downsampled CNN start representations\n",
        "train_fin = []\n",
        "for i in st_arr:\n",
        "  pyramid = tuple(pyramid_gaussian(i, downscale=2, channel_axis=-1))\n",
        "  train_fin.append(np.array(pyramid[3]))"
      ],
      "metadata": {
        "id": "p-Y8R199ntTM"
      },
      "execution_count": null,
      "outputs": []
    },
    {
      "cell_type": "code",
      "source": [
        "#Function to normalise CNN representations to prepare for input into the model\n",
        "def normalise_rep(rep):\n",
        "  rep = rep.flatten()\n",
        "  mi = np.min(rep)\n",
        "  ma = np.max(rep)\n",
        "  tma = 255\n",
        "  tmi = 0\n",
        "  rep = (((rep - mi)/(ma - mi)) * (tma-tmi)) + tmi\n",
        "  return rep.reshape((112,112))"
      ],
      "metadata": {
        "id": "WZnryiKOIUd2"
      },
      "execution_count": 8,
      "outputs": []
    },
    {
      "cell_type": "code",
      "source": [
        "# Normalizing the CNN values\n",
        "inp_states = [normalise_rep(i) for i in train_fin]"
      ],
      "metadata": {
        "id": "l1SuSc-7iNv0"
      },
      "execution_count": 9,
      "outputs": []
    },
    {
      "cell_type": "code",
      "source": [
        "# Training the Hopfield using the Starting CNN Representations\n",
        "hopfield_network = ClassicalHopfield(input_shape = (224,112))\n",
        "assert len(train_fin) <= hopfield_network.storage_capacity_limit() # best to keep number of patterns below storage capacity\n",
        "energy_list = [0]\n",
        "jj=0\n",
        "for pattern in inp_states:\n",
        "    jj+=1\n",
        "    print(jj)\n",
        "    states = hopfield_network.process_image(Image.fromarray(pattern))\n",
        "    hopfield_network.train(states)\n",
        "    energy_list.append(hopfield_network.energy_function(states))\n",
        "\n",
        "plt.plot([i for i in range(len(energy_list))], energy_list)\n",
        "plt.xlabel(\"Patterns Trained\")\n",
        "plt.ylabel(\"Energy\")\n",
        "plt.show()"
      ],
      "metadata": {
        "id": "36SvxaaPZWNP"
      },
      "execution_count": null,
      "outputs": []
    },
    {
      "cell_type": "code",
      "source": [
        "#Deleting the variables not required to free up space\n",
        "del train_fin\n",
        "del inp_states"
      ],
      "metadata": {
        "id": "nzAPzeVEEgiN"
      },
      "execution_count": 24,
      "outputs": []
    },
    {
      "cell_type": "code",
      "source": [
        "# Using test paths, we find start CNN representations, downsample them using Gaussian Pyramids, normalize them\n",
        "# Then apply model preprocessor, corrupt using noise and finally test for accuracy and store the results\n",
        "from skimage.transform import pyramid_gaussian\n",
        "test_img_info_1 = test_img_info.copy()\n",
        "for i, new_path in enumerate(new_test_img_paths):\n",
        "    img = image.load_img(new_path, target_size=(224, 224))\n",
        "    x= image.img_to_array(img)\n",
        "    x= np.expand_dims(x, axis=0)\n",
        "    x = preprocess_input(x)\n",
        "    pat = model_st.predict(x)\n",
        "    pyramid = tuple(pyramid_gaussian(pat, downscale=2, channel_axis=-1))\n",
        "    pat = np.array(pyramid[3])\n",
        "    pattern = normalise_rep(pat)\n",
        "    states = hopfield_network.process_image(Image.fromarray(pattern))\n",
        "    mask = list(np.random.permutation(np.arange(0,112*112*64))[:125])\n",
        "    corrupted_states = states.copy()\n",
        "    for pp in mask:\n",
        "      corrupted_states[pp] *= -1\n",
        "    predicted_states = corrupted_states.copy()\n",
        "    energy_list = [hopfield_network.energy_function(predicted_states)]\n",
        "    predicted_states = hopfield_network.test(predicted_states, synchronous = True)\n",
        "    acc = np.sum(np.asarray(states) == np.asarray(predicted_states))*100 / np.prod(states.size)\n",
        "    test_img_info_1[test_img_info_1[1] == new_path.split('/')[-2]].append(acc)\n",
        "    print(i)"
      ],
      "metadata": {
        "id": "WtiB2DQ0fv40"
      },
      "execution_count": null,
      "outputs": []
    },
    {
      "cell_type": "code",
      "source": [
        "# Storing the results into excel sheets\n",
        "start_rep_result = pd.DataFrame(test_img_info_1)\n",
        "start_rep_result.to_excel(\"start_rep_result.xlsx\")"
      ],
      "metadata": {
        "id": "jA9tF6_G7nJL"
      },
      "execution_count": 63,
      "outputs": []
    },
    {
      "cell_type": "markdown",
      "source": [
        "## Training and Testing using End CNN Representations"
      ],
      "metadata": {
        "id": "mTfyxSxUq6_e"
      }
    },
    {
      "cell_type": "code",
      "source": [
        "# Loading ending layer CNN representations\n",
        "import numpy as np\n",
        "#Guassian pyramid is used to perform downsampling of end CNN representations from (7*7*512) to (7*7*512)\n",
        "from skimage.transform import pyramid_gaussian\n",
        "\n",
        "# Applying guassian pyramid and getting downsampled CNN end representations\n",
        "train_fin = []\n",
        "for i in fin_arr:\n",
        "  pyramid = tuple(pyramid_gaussian(i, downscale=2, channel_axis=-1))\n",
        "  train_fin.append(np.array(pyramid[0]))"
      ],
      "metadata": {
        "id": "a8PI3S9Xqrfv"
      },
      "execution_count": null,
      "outputs": []
    },
    {
      "cell_type": "code",
      "source": [
        "#Function to normalise CNN representations to prepare for input into the model\n",
        "def normalise_rep(rep):\n",
        "  rep = rep.flatten()\n",
        "  mi = np.min(rep)\n",
        "  ma = np.max(rep)\n",
        "  tma = 255\n",
        "  tmi = 0\n",
        "  rep = (((rep - mi)/(ma - mi)) * (tma-tmi)) + tmi\n",
        "  return rep.reshape((224,112))"
      ],
      "metadata": {
        "id": "deHx0rCFqpjz"
      },
      "execution_count": null,
      "outputs": []
    },
    {
      "cell_type": "code",
      "source": [
        "# Normalizing the CNN values\n",
        "inp_states = [normalise_rep(i) for i in train_fin]"
      ],
      "metadata": {
        "id": "B6T93a2ZqoE1"
      },
      "execution_count": null,
      "outputs": []
    },
    {
      "cell_type": "code",
      "source": [
        "# Training the Hopfield using the ending CNN Representations\n",
        "hopfield_network = ClassicalHopfield(input_shape = (224,112))\n",
        "assert len(train_fin) <= hopfield_network.storage_capacity_limit() # best to keep number of patterns below storage capacity\n",
        "energy_list = [0]\n",
        "jj=0\n",
        "for pattern in inp_states:\n",
        "    jj+=1\n",
        "    print(jj)\n",
        "    states = hopfield_network.process_image(Image.fromarray(pattern))\n",
        "    hopfield_network.train(states)\n",
        "    energy_list.append(hopfield_network.energy_function(states))\n",
        "\n",
        "plt.plot([i for i in range(len(energy_list))], energy_list)\n",
        "plt.xlabel(\"Patterns Trained\")\n",
        "plt.ylabel(\"Energy\")\n",
        "plt.show()"
      ],
      "metadata": {
        "id": "gQfcIo2Fqmg-"
      },
      "execution_count": null,
      "outputs": []
    },
    {
      "cell_type": "code",
      "source": [
        "#Deleting the variables not required to free up space\n",
        "del train_fin\n",
        "del inp_states"
      ],
      "metadata": {
        "id": "jXfJakBNqjiF"
      },
      "execution_count": null,
      "outputs": []
    },
    {
      "cell_type": "code",
      "source": [
        "# Using test paths from previous sections, we find end CNN representations, downsample them using Gaussian Pyramids,\n",
        "# normalize them, then apply model preprocessor, corrupt using noise and finally test for accuracy and store the results\n",
        "from skimage.transform import pyramid_gaussian\n",
        "test_img_info_2 = test_img_info.copy()\n",
        "for i, new_path in enumerate(new_test_img_paths):\n",
        "    img = image.load_img(new_path, target_size=(224, 224))\n",
        "    x= image.img_to_array(img)\n",
        "    x= np.expand_dims(x, axis=0)\n",
        "    x = preprocess_input(x)\n",
        "    pat = model_st.predict(x)\n",
        "    pyramid = tuple(pyramid_gaussian(pat, downscale=2, channel_axis=-1))\n",
        "    pat = np.array(pyramid[0])\n",
        "    pattern = normalise_rep(pat)\n",
        "    states = hopfield_network.process_image(Image.fromarray(pattern))\n",
        "    mask = list(np.random.permutation(np.arange(0,7*7*512))[:250])\n",
        "    corrupted_states = states.copy()\n",
        "    for pp in mask:\n",
        "      corrupted_states[pp] *= -1\n",
        "    predicted_states = corrupted_states.copy()\n",
        "    energy_list = [hopfield_network.energy_function(predicted_states)]\n",
        "    predicted_states = hopfield_network.test(predicted_states, synchronous = True)\n",
        "    acc = np.sum(np.asarray(states) == np.asarray(predicted_states))*100 / np.prod(states.size)\n",
        "    test_img_info_2[test_img_info_2[1] == new_path.split('/')[-2]].append(acc)\n",
        "    print(i)"
      ],
      "metadata": {
        "id": "L9ycAgRfqg2N"
      },
      "execution_count": null,
      "outputs": []
    },
    {
      "cell_type": "code",
      "source": [
        "# Storing the results into excel sheets\n",
        "end_rep_result = pd.DataFrame(test_img_info_2)\n",
        "end_rep_result.to_excel(\"end_rep_result.xlsx\")"
      ],
      "metadata": {
        "id": "P49U75m2qW7e"
      },
      "execution_count": null,
      "outputs": []
    },
    {
      "cell_type": "markdown",
      "source": [
        "## Getting all results to single DataFrame and then binning the data"
      ],
      "metadata": {
        "id": "cK-DhWP-sy3p"
      }
    },
    {
      "cell_type": "code",
      "source": [
        "# Loading similarity data into memory from file\n",
        "import pandas as pd\n",
        "sim_cat_dat = pd.read_csv(\"/content/drive/MyDrive/category_similarity.csv\")"
      ],
      "metadata": {
        "id": "Io3ZcrRKpe2O"
      },
      "execution_count": 11,
      "outputs": []
    },
    {
      "cell_type": "code",
      "source": [
        "# Getting actual positions of similarity dataset to insert accuracies into based on category name match\n",
        "new_test_img_cats = [k.split('/')[-2] for k in new_test_img_paths]"
      ],
      "metadata": {
        "id": "LmGs7mjEQATC"
      },
      "execution_count": 21,
      "outputs": []
    },
    {
      "cell_type": "code",
      "source": [
        "# Putting all results into two lists one for start representation accuracy and other for end representation accuracy\n",
        "final_result_start_repr_cat = []\n",
        "final_result_end_repr_cat = []\n",
        "for cat_cat in list(sim_cat_dat['Category Name']):\n",
        "  pos = new_test_img_cats.index(cat_cat)\n",
        "  final_result_start_repr_cat.append(test_img_info_1[0][-1][pos])\n",
        "  final_result_end_repr_cat.append(test_img_info_2[0][-1][pos])"
      ],
      "metadata": {
        "id": "gBiSKN6RMtIv"
      },
      "execution_count": 27,
      "outputs": []
    },
    {
      "cell_type": "code",
      "source": [
        "# Adding the start and end representation accuracy columns to the main dataset\n",
        "sim_cat_dat['Acc_Start'] = pd.Series(start_rep_result[''])\n",
        "sim_cat_dat['Acc_End'] = pd.Series(final_result_end_repr_cat)"
      ],
      "metadata": {
        "id": "-vlphGGmSX0F"
      },
      "execution_count": 28,
      "outputs": []
    },
    {
      "cell_type": "code",
      "source": [
        "sim_cat_dat"
      ],
      "metadata": {
        "colab": {
          "base_uri": "https://localhost:8080/",
          "height": 423
        },
        "id": "h7dl6anqscxP",
        "outputId": "fb73acb7-e3d2-4f8d-b3ed-962d5f22c4a1"
      },
      "execution_count": 29,
      "outputs": [
        {
          "output_type": "execute_result",
          "data": {
            "text/plain": [
              "    Category Name  Start Sim  Mid  Sim   End Sim  \\\n",
              "0      rollingpin   0.812470  0.583735  0.515097   \n",
              "1    servingpiece   0.761342  0.456306  0.366598   \n",
              "2       spicerack   0.547922  0.364385  0.364846   \n",
              "3     wheelbarrow   0.598456  0.391241  0.447747   \n",
              "4          window   0.745731  0.373921  0.335546   \n",
              "..            ...        ...       ...       ...   \n",
              "155       feather   0.755710  0.403659  0.322031   \n",
              "156   coffeemaker   0.568002  0.364612  0.314367   \n",
              "157     birdhouse   0.662840  0.333801  0.285871   \n",
              "158    carabiners   0.687590  0.509880  0.578377   \n",
              "159   doorknocker   0.611004  0.350565  0.277202   \n",
              "\n",
              "                                                  Path  Acc_Start    Acc_End  \n",
              "0    /content/drive/MyDrive/ObjectCategories2/4-obj...  94.021046  99.525670  \n",
              "1    /content/drive/MyDrive/ObjectCategories2/4-obj...  93.255740  99.178890  \n",
              "2    /content/drive/MyDrive/ObjectCategories2/4-obj...  89.022640  99.198820  \n",
              "3    /content/drive/MyDrive/ObjectCategories2/4-obj...  92.259247  99.469866  \n",
              "4    /content/drive/MyDrive/ObjectCategories2/4-obj...  95.065370  99.473852  \n",
              "..                                                 ...        ...        ...  \n",
              "155  /content/drive/MyDrive/ObjectCategories2/16-ob...  93.726084  99.541614  \n",
              "156  /content/drive/MyDrive/ObjectCategories2/16-ob...  89.277742  99.031409  \n",
              "157  /content/drive/MyDrive/ObjectCategories2/16-ob...  89.325574  98.955676  \n",
              "158  /content/drive/MyDrive/ObjectCategories2/16-ob...  91.326531  99.641263  \n",
              "159  /content/drive/MyDrive/ObjectCategories2/16-ob...  90.082908  99.194834  \n",
              "\n",
              "[160 rows x 7 columns]"
            ],
            "text/html": [
              "\n",
              "  <div id=\"df-42691381-6716-45fb-8b44-7f7b6145ec64\" class=\"colab-df-container\">\n",
              "    <div>\n",
              "<style scoped>\n",
              "    .dataframe tbody tr th:only-of-type {\n",
              "        vertical-align: middle;\n",
              "    }\n",
              "\n",
              "    .dataframe tbody tr th {\n",
              "        vertical-align: top;\n",
              "    }\n",
              "\n",
              "    .dataframe thead th {\n",
              "        text-align: right;\n",
              "    }\n",
              "</style>\n",
              "<table border=\"1\" class=\"dataframe\">\n",
              "  <thead>\n",
              "    <tr style=\"text-align: right;\">\n",
              "      <th></th>\n",
              "      <th>Category Name</th>\n",
              "      <th>Start Sim</th>\n",
              "      <th>Mid  Sim</th>\n",
              "      <th>End Sim</th>\n",
              "      <th>Path</th>\n",
              "      <th>Acc_Start</th>\n",
              "      <th>Acc_End</th>\n",
              "    </tr>\n",
              "  </thead>\n",
              "  <tbody>\n",
              "    <tr>\n",
              "      <th>0</th>\n",
              "      <td>rollingpin</td>\n",
              "      <td>0.812470</td>\n",
              "      <td>0.583735</td>\n",
              "      <td>0.515097</td>\n",
              "      <td>/content/drive/MyDrive/ObjectCategories2/4-obj...</td>\n",
              "      <td>94.021046</td>\n",
              "      <td>99.525670</td>\n",
              "    </tr>\n",
              "    <tr>\n",
              "      <th>1</th>\n",
              "      <td>servingpiece</td>\n",
              "      <td>0.761342</td>\n",
              "      <td>0.456306</td>\n",
              "      <td>0.366598</td>\n",
              "      <td>/content/drive/MyDrive/ObjectCategories2/4-obj...</td>\n",
              "      <td>93.255740</td>\n",
              "      <td>99.178890</td>\n",
              "    </tr>\n",
              "    <tr>\n",
              "      <th>2</th>\n",
              "      <td>spicerack</td>\n",
              "      <td>0.547922</td>\n",
              "      <td>0.364385</td>\n",
              "      <td>0.364846</td>\n",
              "      <td>/content/drive/MyDrive/ObjectCategories2/4-obj...</td>\n",
              "      <td>89.022640</td>\n",
              "      <td>99.198820</td>\n",
              "    </tr>\n",
              "    <tr>\n",
              "      <th>3</th>\n",
              "      <td>wheelbarrow</td>\n",
              "      <td>0.598456</td>\n",
              "      <td>0.391241</td>\n",
              "      <td>0.447747</td>\n",
              "      <td>/content/drive/MyDrive/ObjectCategories2/4-obj...</td>\n",
              "      <td>92.259247</td>\n",
              "      <td>99.469866</td>\n",
              "    </tr>\n",
              "    <tr>\n",
              "      <th>4</th>\n",
              "      <td>window</td>\n",
              "      <td>0.745731</td>\n",
              "      <td>0.373921</td>\n",
              "      <td>0.335546</td>\n",
              "      <td>/content/drive/MyDrive/ObjectCategories2/4-obj...</td>\n",
              "      <td>95.065370</td>\n",
              "      <td>99.473852</td>\n",
              "    </tr>\n",
              "    <tr>\n",
              "      <th>...</th>\n",
              "      <td>...</td>\n",
              "      <td>...</td>\n",
              "      <td>...</td>\n",
              "      <td>...</td>\n",
              "      <td>...</td>\n",
              "      <td>...</td>\n",
              "      <td>...</td>\n",
              "    </tr>\n",
              "    <tr>\n",
              "      <th>155</th>\n",
              "      <td>feather</td>\n",
              "      <td>0.755710</td>\n",
              "      <td>0.403659</td>\n",
              "      <td>0.322031</td>\n",
              "      <td>/content/drive/MyDrive/ObjectCategories2/16-ob...</td>\n",
              "      <td>93.726084</td>\n",
              "      <td>99.541614</td>\n",
              "    </tr>\n",
              "    <tr>\n",
              "      <th>156</th>\n",
              "      <td>coffeemaker</td>\n",
              "      <td>0.568002</td>\n",
              "      <td>0.364612</td>\n",
              "      <td>0.314367</td>\n",
              "      <td>/content/drive/MyDrive/ObjectCategories2/16-ob...</td>\n",
              "      <td>89.277742</td>\n",
              "      <td>99.031409</td>\n",
              "    </tr>\n",
              "    <tr>\n",
              "      <th>157</th>\n",
              "      <td>birdhouse</td>\n",
              "      <td>0.662840</td>\n",
              "      <td>0.333801</td>\n",
              "      <td>0.285871</td>\n",
              "      <td>/content/drive/MyDrive/ObjectCategories2/16-ob...</td>\n",
              "      <td>89.325574</td>\n",
              "      <td>98.955676</td>\n",
              "    </tr>\n",
              "    <tr>\n",
              "      <th>158</th>\n",
              "      <td>carabiners</td>\n",
              "      <td>0.687590</td>\n",
              "      <td>0.509880</td>\n",
              "      <td>0.578377</td>\n",
              "      <td>/content/drive/MyDrive/ObjectCategories2/16-ob...</td>\n",
              "      <td>91.326531</td>\n",
              "      <td>99.641263</td>\n",
              "    </tr>\n",
              "    <tr>\n",
              "      <th>159</th>\n",
              "      <td>doorknocker</td>\n",
              "      <td>0.611004</td>\n",
              "      <td>0.350565</td>\n",
              "      <td>0.277202</td>\n",
              "      <td>/content/drive/MyDrive/ObjectCategories2/16-ob...</td>\n",
              "      <td>90.082908</td>\n",
              "      <td>99.194834</td>\n",
              "    </tr>\n",
              "  </tbody>\n",
              "</table>\n",
              "<p>160 rows × 7 columns</p>\n",
              "</div>\n",
              "    <div class=\"colab-df-buttons\">\n",
              "\n",
              "  <div class=\"colab-df-container\">\n",
              "    <button class=\"colab-df-convert\" onclick=\"convertToInteractive('df-42691381-6716-45fb-8b44-7f7b6145ec64')\"\n",
              "            title=\"Convert this dataframe to an interactive table.\"\n",
              "            style=\"display:none;\">\n",
              "\n",
              "  <svg xmlns=\"http://www.w3.org/2000/svg\" height=\"24px\" viewBox=\"0 -960 960 960\">\n",
              "    <path d=\"M120-120v-720h720v720H120Zm60-500h600v-160H180v160Zm220 220h160v-160H400v160Zm0 220h160v-160H400v160ZM180-400h160v-160H180v160Zm440 0h160v-160H620v160ZM180-180h160v-160H180v160Zm440 0h160v-160H620v160Z\"/>\n",
              "  </svg>\n",
              "    </button>\n",
              "\n",
              "  <style>\n",
              "    .colab-df-container {\n",
              "      display:flex;\n",
              "      gap: 12px;\n",
              "    }\n",
              "\n",
              "    .colab-df-convert {\n",
              "      background-color: #E8F0FE;\n",
              "      border: none;\n",
              "      border-radius: 50%;\n",
              "      cursor: pointer;\n",
              "      display: none;\n",
              "      fill: #1967D2;\n",
              "      height: 32px;\n",
              "      padding: 0 0 0 0;\n",
              "      width: 32px;\n",
              "    }\n",
              "\n",
              "    .colab-df-convert:hover {\n",
              "      background-color: #E2EBFA;\n",
              "      box-shadow: 0px 1px 2px rgba(60, 64, 67, 0.3), 0px 1px 3px 1px rgba(60, 64, 67, 0.15);\n",
              "      fill: #174EA6;\n",
              "    }\n",
              "\n",
              "    .colab-df-buttons div {\n",
              "      margin-bottom: 4px;\n",
              "    }\n",
              "\n",
              "    [theme=dark] .colab-df-convert {\n",
              "      background-color: #3B4455;\n",
              "      fill: #D2E3FC;\n",
              "    }\n",
              "\n",
              "    [theme=dark] .colab-df-convert:hover {\n",
              "      background-color: #434B5C;\n",
              "      box-shadow: 0px 1px 3px 1px rgba(0, 0, 0, 0.15);\n",
              "      filter: drop-shadow(0px 1px 2px rgba(0, 0, 0, 0.3));\n",
              "      fill: #FFFFFF;\n",
              "    }\n",
              "  </style>\n",
              "\n",
              "    <script>\n",
              "      const buttonEl =\n",
              "        document.querySelector('#df-42691381-6716-45fb-8b44-7f7b6145ec64 button.colab-df-convert');\n",
              "      buttonEl.style.display =\n",
              "        google.colab.kernel.accessAllowed ? 'block' : 'none';\n",
              "\n",
              "      async function convertToInteractive(key) {\n",
              "        const element = document.querySelector('#df-42691381-6716-45fb-8b44-7f7b6145ec64');\n",
              "        const dataTable =\n",
              "          await google.colab.kernel.invokeFunction('convertToInteractive',\n",
              "                                                    [key], {});\n",
              "        if (!dataTable) return;\n",
              "\n",
              "        const docLinkHtml = 'Like what you see? Visit the ' +\n",
              "          '<a target=\"_blank\" href=https://colab.research.google.com/notebooks/data_table.ipynb>data table notebook</a>'\n",
              "          + ' to learn more about interactive tables.';\n",
              "        element.innerHTML = '';\n",
              "        dataTable['output_type'] = 'display_data';\n",
              "        await google.colab.output.renderOutput(dataTable, element);\n",
              "        const docLink = document.createElement('div');\n",
              "        docLink.innerHTML = docLinkHtml;\n",
              "        element.appendChild(docLink);\n",
              "      }\n",
              "    </script>\n",
              "  </div>\n",
              "\n",
              "\n",
              "<div id=\"df-1b40e058-6357-48fb-8f5b-827ec00b78dd\">\n",
              "  <button class=\"colab-df-quickchart\" onclick=\"quickchart('df-1b40e058-6357-48fb-8f5b-827ec00b78dd')\"\n",
              "            title=\"Suggest charts\"\n",
              "            style=\"display:none;\">\n",
              "\n",
              "<svg xmlns=\"http://www.w3.org/2000/svg\" height=\"24px\"viewBox=\"0 0 24 24\"\n",
              "     width=\"24px\">\n",
              "    <g>\n",
              "        <path d=\"M19 3H5c-1.1 0-2 .9-2 2v14c0 1.1.9 2 2 2h14c1.1 0 2-.9 2-2V5c0-1.1-.9-2-2-2zM9 17H7v-7h2v7zm4 0h-2V7h2v10zm4 0h-2v-4h2v4z\"/>\n",
              "    </g>\n",
              "</svg>\n",
              "  </button>\n",
              "\n",
              "<style>\n",
              "  .colab-df-quickchart {\n",
              "      --bg-color: #E8F0FE;\n",
              "      --fill-color: #1967D2;\n",
              "      --hover-bg-color: #E2EBFA;\n",
              "      --hover-fill-color: #174EA6;\n",
              "      --disabled-fill-color: #AAA;\n",
              "      --disabled-bg-color: #DDD;\n",
              "  }\n",
              "\n",
              "  [theme=dark] .colab-df-quickchart {\n",
              "      --bg-color: #3B4455;\n",
              "      --fill-color: #D2E3FC;\n",
              "      --hover-bg-color: #434B5C;\n",
              "      --hover-fill-color: #FFFFFF;\n",
              "      --disabled-bg-color: #3B4455;\n",
              "      --disabled-fill-color: #666;\n",
              "  }\n",
              "\n",
              "  .colab-df-quickchart {\n",
              "    background-color: var(--bg-color);\n",
              "    border: none;\n",
              "    border-radius: 50%;\n",
              "    cursor: pointer;\n",
              "    display: none;\n",
              "    fill: var(--fill-color);\n",
              "    height: 32px;\n",
              "    padding: 0;\n",
              "    width: 32px;\n",
              "  }\n",
              "\n",
              "  .colab-df-quickchart:hover {\n",
              "    background-color: var(--hover-bg-color);\n",
              "    box-shadow: 0 1px 2px rgba(60, 64, 67, 0.3), 0 1px 3px 1px rgba(60, 64, 67, 0.15);\n",
              "    fill: var(--button-hover-fill-color);\n",
              "  }\n",
              "\n",
              "  .colab-df-quickchart-complete:disabled,\n",
              "  .colab-df-quickchart-complete:disabled:hover {\n",
              "    background-color: var(--disabled-bg-color);\n",
              "    fill: var(--disabled-fill-color);\n",
              "    box-shadow: none;\n",
              "  }\n",
              "\n",
              "  .colab-df-spinner {\n",
              "    border: 2px solid var(--fill-color);\n",
              "    border-color: transparent;\n",
              "    border-bottom-color: var(--fill-color);\n",
              "    animation:\n",
              "      spin 1s steps(1) infinite;\n",
              "  }\n",
              "\n",
              "  @keyframes spin {\n",
              "    0% {\n",
              "      border-color: transparent;\n",
              "      border-bottom-color: var(--fill-color);\n",
              "      border-left-color: var(--fill-color);\n",
              "    }\n",
              "    20% {\n",
              "      border-color: transparent;\n",
              "      border-left-color: var(--fill-color);\n",
              "      border-top-color: var(--fill-color);\n",
              "    }\n",
              "    30% {\n",
              "      border-color: transparent;\n",
              "      border-left-color: var(--fill-color);\n",
              "      border-top-color: var(--fill-color);\n",
              "      border-right-color: var(--fill-color);\n",
              "    }\n",
              "    40% {\n",
              "      border-color: transparent;\n",
              "      border-right-color: var(--fill-color);\n",
              "      border-top-color: var(--fill-color);\n",
              "    }\n",
              "    60% {\n",
              "      border-color: transparent;\n",
              "      border-right-color: var(--fill-color);\n",
              "    }\n",
              "    80% {\n",
              "      border-color: transparent;\n",
              "      border-right-color: var(--fill-color);\n",
              "      border-bottom-color: var(--fill-color);\n",
              "    }\n",
              "    90% {\n",
              "      border-color: transparent;\n",
              "      border-bottom-color: var(--fill-color);\n",
              "    }\n",
              "  }\n",
              "</style>\n",
              "\n",
              "  <script>\n",
              "    async function quickchart(key) {\n",
              "      const quickchartButtonEl =\n",
              "        document.querySelector('#' + key + ' button');\n",
              "      quickchartButtonEl.disabled = true;  // To prevent multiple clicks.\n",
              "      quickchartButtonEl.classList.add('colab-df-spinner');\n",
              "      try {\n",
              "        const charts = await google.colab.kernel.invokeFunction(\n",
              "            'suggestCharts', [key], {});\n",
              "      } catch (error) {\n",
              "        console.error('Error during call to suggestCharts:', error);\n",
              "      }\n",
              "      quickchartButtonEl.classList.remove('colab-df-spinner');\n",
              "      quickchartButtonEl.classList.add('colab-df-quickchart-complete');\n",
              "    }\n",
              "    (() => {\n",
              "      let quickchartButtonEl =\n",
              "        document.querySelector('#df-1b40e058-6357-48fb-8f5b-827ec00b78dd button');\n",
              "      quickchartButtonEl.style.display =\n",
              "        google.colab.kernel.accessAllowed ? 'block' : 'none';\n",
              "    })();\n",
              "  </script>\n",
              "</div>\n",
              "    </div>\n",
              "  </div>\n"
            ]
          },
          "metadata": {},
          "execution_count": 29
        }
      ]
    },
    {
      "cell_type": "code",
      "source": [
        "# Splitting the main dataset into three sub datasets one for each layer similarity\n",
        "st_sim_df = sim_cat_dat[['Category Name','Start Sim','Path','Acc_Start','Acc_End']]\n",
        "md_sim_df = sim_cat_dat[['Category Name','Mid  Sim', 'Path','Acc_Start','Acc_End']]\n",
        "fin_sim_df = sim_cat_dat[['Category Name','End Sim', 'Path','Acc_Start','Acc_End']]"
      ],
      "metadata": {
        "id": "jCWvvKMc_Emz"
      },
      "execution_count": 30,
      "outputs": []
    },
    {
      "cell_type": "code",
      "source": [
        "# Sorting datasets based on similarity\n",
        "st_sim_df_sort  = st_sim_df.sort_values(by=['Start Sim'])\n",
        "md_sim_df_sort  = md_sim_df.sort_values(by=['Mid  Sim'])\n",
        "fin_sim_df_sort = fin_sim_df.sort_values(by=['End Sim'])"
      ],
      "metadata": {
        "id": "_vK9PElO_adU"
      },
      "execution_count": 31,
      "outputs": []
    },
    {
      "cell_type": "code",
      "source": [
        "# Function to get number of objects in the category\n",
        "def get_obj_num(inp):\n",
        "  return inp.split('/')[-2]"
      ],
      "metadata": {
        "id": "G3ZFnlD2DoGT"
      },
      "execution_count": 32,
      "outputs": []
    },
    {
      "cell_type": "code",
      "source": [
        "# Adding object info to the datasets\n",
        "st_sim_df_sort['Obj Num']  =  st_sim_df_sort['Path'].apply(get_obj_num)\n",
        "md_sim_df_sort['Obj Num']  =  md_sim_df_sort['Path'].apply(get_obj_num)\n",
        "fin_sim_df_sort['Obj Num'] = fin_sim_df_sort['Path'].apply(get_obj_num)\n",
        "\n",
        "st_sim_df_sort.reset_index(inplace=True)\n",
        "md_sim_df_sort.reset_index(inplace=True)\n",
        "fin_sim_df_sort.reset_index(inplace=True)"
      ],
      "metadata": {
        "id": "4mIa17rMCG4Y"
      },
      "execution_count": 33,
      "outputs": []
    },
    {
      "cell_type": "code",
      "source": [
        "# Binning each layer dataset into 3 different bins based on similarity score of that category\n",
        "# Similarity : Bin 1 < Bin 2 < Bin 3\n",
        "# Bin1  = 53 categories, Bin 2 = 54 Categories, Bin 3 = 53 Categories\n",
        "\n",
        "st_bin1  = st_sim_df_sort.iloc[:53].copy()\n",
        "st_bin2  = st_sim_df_sort.iloc[53:107].copy()\n",
        "st_bin3  = st_sim_df_sort.iloc[107:160].copy()\n",
        "md_bin1  = md_sim_df_sort.iloc[:53].copy()\n",
        "md_bin2  = md_sim_df_sort.iloc[53:107].copy()\n",
        "md_bin3  = md_sim_df_sort.iloc[107:160].copy()\n",
        "fin_bin1 = fin_sim_df_sort.iloc[:53].copy()\n",
        "fin_bin2 = fin_sim_df_sort.iloc[53:107].copy()\n",
        "fin_bin3 = fin_sim_df_sort.iloc[107:160].copy()"
      ],
      "metadata": {
        "id": "A4-LNepBAtA8"
      },
      "execution_count": 34,
      "outputs": []
    },
    {
      "cell_type": "code",
      "source": [
        "# Making a table to show how many categories of particuar number of exemplars/objects are in each bin\n",
        "\n",
        "obj_count_df = pd.DataFrame([st_bin1['Obj Num'].value_counts(),st_bin2['Obj Num'].value_counts(),st_bin3['Obj Num'].value_counts(),md_bin1['Obj Num'].value_counts(),md_bin2['Obj Num'].value_counts(), md_bin3['Obj Num'].value_counts(),fin_bin1['Obj Num'].value_counts(),fin_bin2['Obj Num'].value_counts(),fin_bin3['Obj Num'].value_counts()]).reset_index()\n",
        "obj_count_df = obj_count_df.loc[:, obj_count_df.columns != 'index']\n",
        "obj_count_df.rename(index={0:'Start Bin 1',1:'Start Bin 2',2:'Start Bin 3',3:'Mid Bin 1',4:'Mid Bin 2',5:'Mid Bin 3',6:'End Bin 1',7:'End Bin 2',8:'End Bin 3'})"
      ],
      "metadata": {
        "colab": {
          "base_uri": "https://localhost:8080/",
          "height": 331
        },
        "id": "3KuIy-W0Hhrr",
        "outputId": "f83509e7-d330-45fa-a71b-2906f48e774c"
      },
      "execution_count": 35,
      "outputs": [
        {
          "output_type": "execute_result",
          "data": {
            "text/plain": [
              "             8-objects  4-objects  2-objects  16-objects\n",
              "Start Bin 1         16         13         12          12\n",
              "Start Bin 2         13         13         11          17\n",
              "Start Bin 3         11         14         17          11\n",
              "Mid Bin 1           16         11          8          18\n",
              "Mid Bin 2           12         16         13          13\n",
              "Mid Bin 3           12         13         19           9\n",
              "End Bin 1           15         12         11          15\n",
              "End Bin 2           16         17          7          14\n",
              "End Bin 3            9         11         22          11"
            ],
            "text/html": [
              "\n",
              "  <div id=\"df-c77d0f44-7d8b-4e27-ad44-cd7865a78890\" class=\"colab-df-container\">\n",
              "    <div>\n",
              "<style scoped>\n",
              "    .dataframe tbody tr th:only-of-type {\n",
              "        vertical-align: middle;\n",
              "    }\n",
              "\n",
              "    .dataframe tbody tr th {\n",
              "        vertical-align: top;\n",
              "    }\n",
              "\n",
              "    .dataframe thead th {\n",
              "        text-align: right;\n",
              "    }\n",
              "</style>\n",
              "<table border=\"1\" class=\"dataframe\">\n",
              "  <thead>\n",
              "    <tr style=\"text-align: right;\">\n",
              "      <th></th>\n",
              "      <th>8-objects</th>\n",
              "      <th>4-objects</th>\n",
              "      <th>2-objects</th>\n",
              "      <th>16-objects</th>\n",
              "    </tr>\n",
              "  </thead>\n",
              "  <tbody>\n",
              "    <tr>\n",
              "      <th>Start Bin 1</th>\n",
              "      <td>16</td>\n",
              "      <td>13</td>\n",
              "      <td>12</td>\n",
              "      <td>12</td>\n",
              "    </tr>\n",
              "    <tr>\n",
              "      <th>Start Bin 2</th>\n",
              "      <td>13</td>\n",
              "      <td>13</td>\n",
              "      <td>11</td>\n",
              "      <td>17</td>\n",
              "    </tr>\n",
              "    <tr>\n",
              "      <th>Start Bin 3</th>\n",
              "      <td>11</td>\n",
              "      <td>14</td>\n",
              "      <td>17</td>\n",
              "      <td>11</td>\n",
              "    </tr>\n",
              "    <tr>\n",
              "      <th>Mid Bin 1</th>\n",
              "      <td>16</td>\n",
              "      <td>11</td>\n",
              "      <td>8</td>\n",
              "      <td>18</td>\n",
              "    </tr>\n",
              "    <tr>\n",
              "      <th>Mid Bin 2</th>\n",
              "      <td>12</td>\n",
              "      <td>16</td>\n",
              "      <td>13</td>\n",
              "      <td>13</td>\n",
              "    </tr>\n",
              "    <tr>\n",
              "      <th>Mid Bin 3</th>\n",
              "      <td>12</td>\n",
              "      <td>13</td>\n",
              "      <td>19</td>\n",
              "      <td>9</td>\n",
              "    </tr>\n",
              "    <tr>\n",
              "      <th>End Bin 1</th>\n",
              "      <td>15</td>\n",
              "      <td>12</td>\n",
              "      <td>11</td>\n",
              "      <td>15</td>\n",
              "    </tr>\n",
              "    <tr>\n",
              "      <th>End Bin 2</th>\n",
              "      <td>16</td>\n",
              "      <td>17</td>\n",
              "      <td>7</td>\n",
              "      <td>14</td>\n",
              "    </tr>\n",
              "    <tr>\n",
              "      <th>End Bin 3</th>\n",
              "      <td>9</td>\n",
              "      <td>11</td>\n",
              "      <td>22</td>\n",
              "      <td>11</td>\n",
              "    </tr>\n",
              "  </tbody>\n",
              "</table>\n",
              "</div>\n",
              "    <div class=\"colab-df-buttons\">\n",
              "\n",
              "  <div class=\"colab-df-container\">\n",
              "    <button class=\"colab-df-convert\" onclick=\"convertToInteractive('df-c77d0f44-7d8b-4e27-ad44-cd7865a78890')\"\n",
              "            title=\"Convert this dataframe to an interactive table.\"\n",
              "            style=\"display:none;\">\n",
              "\n",
              "  <svg xmlns=\"http://www.w3.org/2000/svg\" height=\"24px\" viewBox=\"0 -960 960 960\">\n",
              "    <path d=\"M120-120v-720h720v720H120Zm60-500h600v-160H180v160Zm220 220h160v-160H400v160Zm0 220h160v-160H400v160ZM180-400h160v-160H180v160Zm440 0h160v-160H620v160ZM180-180h160v-160H180v160Zm440 0h160v-160H620v160Z\"/>\n",
              "  </svg>\n",
              "    </button>\n",
              "\n",
              "  <style>\n",
              "    .colab-df-container {\n",
              "      display:flex;\n",
              "      gap: 12px;\n",
              "    }\n",
              "\n",
              "    .colab-df-convert {\n",
              "      background-color: #E8F0FE;\n",
              "      border: none;\n",
              "      border-radius: 50%;\n",
              "      cursor: pointer;\n",
              "      display: none;\n",
              "      fill: #1967D2;\n",
              "      height: 32px;\n",
              "      padding: 0 0 0 0;\n",
              "      width: 32px;\n",
              "    }\n",
              "\n",
              "    .colab-df-convert:hover {\n",
              "      background-color: #E2EBFA;\n",
              "      box-shadow: 0px 1px 2px rgba(60, 64, 67, 0.3), 0px 1px 3px 1px rgba(60, 64, 67, 0.15);\n",
              "      fill: #174EA6;\n",
              "    }\n",
              "\n",
              "    .colab-df-buttons div {\n",
              "      margin-bottom: 4px;\n",
              "    }\n",
              "\n",
              "    [theme=dark] .colab-df-convert {\n",
              "      background-color: #3B4455;\n",
              "      fill: #D2E3FC;\n",
              "    }\n",
              "\n",
              "    [theme=dark] .colab-df-convert:hover {\n",
              "      background-color: #434B5C;\n",
              "      box-shadow: 0px 1px 3px 1px rgba(0, 0, 0, 0.15);\n",
              "      filter: drop-shadow(0px 1px 2px rgba(0, 0, 0, 0.3));\n",
              "      fill: #FFFFFF;\n",
              "    }\n",
              "  </style>\n",
              "\n",
              "    <script>\n",
              "      const buttonEl =\n",
              "        document.querySelector('#df-c77d0f44-7d8b-4e27-ad44-cd7865a78890 button.colab-df-convert');\n",
              "      buttonEl.style.display =\n",
              "        google.colab.kernel.accessAllowed ? 'block' : 'none';\n",
              "\n",
              "      async function convertToInteractive(key) {\n",
              "        const element = document.querySelector('#df-c77d0f44-7d8b-4e27-ad44-cd7865a78890');\n",
              "        const dataTable =\n",
              "          await google.colab.kernel.invokeFunction('convertToInteractive',\n",
              "                                                    [key], {});\n",
              "        if (!dataTable) return;\n",
              "\n",
              "        const docLinkHtml = 'Like what you see? Visit the ' +\n",
              "          '<a target=\"_blank\" href=https://colab.research.google.com/notebooks/data_table.ipynb>data table notebook</a>'\n",
              "          + ' to learn more about interactive tables.';\n",
              "        element.innerHTML = '';\n",
              "        dataTable['output_type'] = 'display_data';\n",
              "        await google.colab.output.renderOutput(dataTable, element);\n",
              "        const docLink = document.createElement('div');\n",
              "        docLink.innerHTML = docLinkHtml;\n",
              "        element.appendChild(docLink);\n",
              "      }\n",
              "    </script>\n",
              "  </div>\n",
              "\n",
              "\n",
              "<div id=\"df-91cb125e-4342-4ec7-a327-92b1ec453343\">\n",
              "  <button class=\"colab-df-quickchart\" onclick=\"quickchart('df-91cb125e-4342-4ec7-a327-92b1ec453343')\"\n",
              "            title=\"Suggest charts\"\n",
              "            style=\"display:none;\">\n",
              "\n",
              "<svg xmlns=\"http://www.w3.org/2000/svg\" height=\"24px\"viewBox=\"0 0 24 24\"\n",
              "     width=\"24px\">\n",
              "    <g>\n",
              "        <path d=\"M19 3H5c-1.1 0-2 .9-2 2v14c0 1.1.9 2 2 2h14c1.1 0 2-.9 2-2V5c0-1.1-.9-2-2-2zM9 17H7v-7h2v7zm4 0h-2V7h2v10zm4 0h-2v-4h2v4z\"/>\n",
              "    </g>\n",
              "</svg>\n",
              "  </button>\n",
              "\n",
              "<style>\n",
              "  .colab-df-quickchart {\n",
              "      --bg-color: #E8F0FE;\n",
              "      --fill-color: #1967D2;\n",
              "      --hover-bg-color: #E2EBFA;\n",
              "      --hover-fill-color: #174EA6;\n",
              "      --disabled-fill-color: #AAA;\n",
              "      --disabled-bg-color: #DDD;\n",
              "  }\n",
              "\n",
              "  [theme=dark] .colab-df-quickchart {\n",
              "      --bg-color: #3B4455;\n",
              "      --fill-color: #D2E3FC;\n",
              "      --hover-bg-color: #434B5C;\n",
              "      --hover-fill-color: #FFFFFF;\n",
              "      --disabled-bg-color: #3B4455;\n",
              "      --disabled-fill-color: #666;\n",
              "  }\n",
              "\n",
              "  .colab-df-quickchart {\n",
              "    background-color: var(--bg-color);\n",
              "    border: none;\n",
              "    border-radius: 50%;\n",
              "    cursor: pointer;\n",
              "    display: none;\n",
              "    fill: var(--fill-color);\n",
              "    height: 32px;\n",
              "    padding: 0;\n",
              "    width: 32px;\n",
              "  }\n",
              "\n",
              "  .colab-df-quickchart:hover {\n",
              "    background-color: var(--hover-bg-color);\n",
              "    box-shadow: 0 1px 2px rgba(60, 64, 67, 0.3), 0 1px 3px 1px rgba(60, 64, 67, 0.15);\n",
              "    fill: var(--button-hover-fill-color);\n",
              "  }\n",
              "\n",
              "  .colab-df-quickchart-complete:disabled,\n",
              "  .colab-df-quickchart-complete:disabled:hover {\n",
              "    background-color: var(--disabled-bg-color);\n",
              "    fill: var(--disabled-fill-color);\n",
              "    box-shadow: none;\n",
              "  }\n",
              "\n",
              "  .colab-df-spinner {\n",
              "    border: 2px solid var(--fill-color);\n",
              "    border-color: transparent;\n",
              "    border-bottom-color: var(--fill-color);\n",
              "    animation:\n",
              "      spin 1s steps(1) infinite;\n",
              "  }\n",
              "\n",
              "  @keyframes spin {\n",
              "    0% {\n",
              "      border-color: transparent;\n",
              "      border-bottom-color: var(--fill-color);\n",
              "      border-left-color: var(--fill-color);\n",
              "    }\n",
              "    20% {\n",
              "      border-color: transparent;\n",
              "      border-left-color: var(--fill-color);\n",
              "      border-top-color: var(--fill-color);\n",
              "    }\n",
              "    30% {\n",
              "      border-color: transparent;\n",
              "      border-left-color: var(--fill-color);\n",
              "      border-top-color: var(--fill-color);\n",
              "      border-right-color: var(--fill-color);\n",
              "    }\n",
              "    40% {\n",
              "      border-color: transparent;\n",
              "      border-right-color: var(--fill-color);\n",
              "      border-top-color: var(--fill-color);\n",
              "    }\n",
              "    60% {\n",
              "      border-color: transparent;\n",
              "      border-right-color: var(--fill-color);\n",
              "    }\n",
              "    80% {\n",
              "      border-color: transparent;\n",
              "      border-right-color: var(--fill-color);\n",
              "      border-bottom-color: var(--fill-color);\n",
              "    }\n",
              "    90% {\n",
              "      border-color: transparent;\n",
              "      border-bottom-color: var(--fill-color);\n",
              "    }\n",
              "  }\n",
              "</style>\n",
              "\n",
              "  <script>\n",
              "    async function quickchart(key) {\n",
              "      const quickchartButtonEl =\n",
              "        document.querySelector('#' + key + ' button');\n",
              "      quickchartButtonEl.disabled = true;  // To prevent multiple clicks.\n",
              "      quickchartButtonEl.classList.add('colab-df-spinner');\n",
              "      try {\n",
              "        const charts = await google.colab.kernel.invokeFunction(\n",
              "            'suggestCharts', [key], {});\n",
              "      } catch (error) {\n",
              "        console.error('Error during call to suggestCharts:', error);\n",
              "      }\n",
              "      quickchartButtonEl.classList.remove('colab-df-spinner');\n",
              "      quickchartButtonEl.classList.add('colab-df-quickchart-complete');\n",
              "    }\n",
              "    (() => {\n",
              "      let quickchartButtonEl =\n",
              "        document.querySelector('#df-91cb125e-4342-4ec7-a327-92b1ec453343 button');\n",
              "      quickchartButtonEl.style.display =\n",
              "        google.colab.kernel.accessAllowed ? 'block' : 'none';\n",
              "    })();\n",
              "  </script>\n",
              "</div>\n",
              "    </div>\n",
              "  </div>\n"
            ]
          },
          "metadata": {},
          "execution_count": 35
        }
      ]
    },
    {
      "cell_type": "code",
      "source": [
        "# Writing object/exemplar count data to file\n",
        "obj_count_df.to_csv(\"/content/drive/MyDrive/bin_object_count.csv\")"
      ],
      "metadata": {
        "id": "7cFCI9Earcqe"
      },
      "execution_count": null,
      "outputs": []
    },
    {
      "cell_type": "code",
      "source": [
        "# Writing all the resulting binned datasets to excel file for further processing\n",
        "\n",
        "st_bin1.to_excel('/content/drive/MyDrive/st_bin1_res.xlsx')\n",
        "st_bin2.to_excel('/content/drive/MyDrive/st_bin2_res.xlsx')\n",
        "st_bin3.to_excel('/content/drive/MyDrive/st_bin3_res.xlsx')\n",
        "md_bin1.to_excel('/content/drive/MyDrive/md_bin1_res.xlsx')\n",
        "md_bin2.to_excel('/content/drive/MyDrive/md_bin2_res.xlsx')\n",
        "md_bin3.to_excel('/content/drive/MyDrive/md_bin3_res.xlsx')\n",
        "fin_bin1.to_excel('/content/drive/MyDrive/fin_bin1_res.xlsx')\n",
        "fin_bin2.to_excel('/content/drive/MyDrive/fin_bin2_res.xlsx')\n",
        "fin_bin3.to_excel('/content/drive/MyDrive/fin_bin3_res.xlsx')"
      ],
      "metadata": {
        "id": "RjnY9hbaLNS7"
      },
      "execution_count": 36,
      "outputs": []
    }
  ]
}